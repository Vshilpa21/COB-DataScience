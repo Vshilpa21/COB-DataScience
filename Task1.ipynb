{
 "cells": [
  {
   "cell_type": "code",
   "execution_count": 6,
   "id": "27ae061a",
   "metadata": {},
   "outputs": [],
   "source": [
    "import pandas as pd\n",
    "import requests\n",
    "from datetime import datetime"
   ]
  },
  {
   "cell_type": "markdown",
   "id": "7641c6e4",
   "metadata": {},
   "source": [
    "# OpenWeatherMap API URL"
   ]
  },
  {
   "cell_type": "code",
   "execution_count": 26,
   "id": "d159913c",
   "metadata": {},
   "outputs": [],
   "source": [
    "\n",
    "api_key = 'f3f1c92125a43fe29b71b12dc4feb12b'\n",
    "city_name = 'London'  \n",
    "\n",
    "api_url = f'http://api.openweathermap.org/data/2.5/weather?q={city_name}&appid={api_key}'\n"
   ]
  },
  {
   "cell_type": "markdown",
   "id": "dfda6494",
   "metadata": {},
   "source": [
    "# Fetch data from the API"
   ]
  },
  {
   "cell_type": "code",
   "execution_count": 27,
   "id": "ce22bcf4",
   "metadata": {},
   "outputs": [],
   "source": [
    "response = requests.get(api_url)\n",
    "data = response.json()"
   ]
  },
  {
   "cell_type": "markdown",
   "id": "fbd24cdf",
   "metadata": {},
   "source": [
    "# Create a DataFrame from the data"
   ]
  },
  {
   "cell_type": "code",
   "execution_count": 28,
   "id": "a1b19db2",
   "metadata": {},
   "outputs": [],
   "source": [
    "df = pd.DataFrame(weather_data)\n",
    "num_users = 50 \n",
    "user_data = get_random_user_data(num_users)"
   ]
  },
  {
   "cell_type": "markdown",
   "id": "52c86043",
   "metadata": {},
   "source": [
    "# Save the DataFrame to a CSV file"
   ]
  },
  {
   "cell_type": "code",
   "execution_count": 29,
   "id": "2fe82785",
   "metadata": {},
   "outputs": [
    {
     "name": "stdout",
     "output_type": "stream",
     "text": [
      "Dataset created and saved as 'weather_dataset.csv'\n"
     ]
    }
   ],
   "source": [
    "df.to_csv('weather_dataset.csv', index=False)\n",
    "\n",
    "print(\"Dataset created and saved as 'weather_dataset.csv'\")"
   ]
  },
  {
   "cell_type": "code",
   "execution_count": 30,
   "id": "72fb2a5a",
   "metadata": {},
   "outputs": [
    {
     "data": {
      "text/html": [
       "<div>\n",
       "<style scoped>\n",
       "    .dataframe tbody tr th:only-of-type {\n",
       "        vertical-align: middle;\n",
       "    }\n",
       "\n",
       "    .dataframe tbody tr th {\n",
       "        vertical-align: top;\n",
       "    }\n",
       "\n",
       "    .dataframe thead th {\n",
       "        text-align: right;\n",
       "    }\n",
       "</style>\n",
       "<table border=\"1\" class=\"dataframe\">\n",
       "  <thead>\n",
       "    <tr style=\"text-align: right;\">\n",
       "      <th></th>\n",
       "      <th>City</th>\n",
       "      <th>Temperature (Celsius)</th>\n",
       "      <th>Humidity (%)</th>\n",
       "      <th>Weather Description</th>\n",
       "    </tr>\n",
       "  </thead>\n",
       "  <tbody>\n",
       "    <tr>\n",
       "      <th>0</th>\n",
       "      <td>London</td>\n",
       "      <td>5.99</td>\n",
       "      <td>91</td>\n",
       "      <td>overcast clouds</td>\n",
       "    </tr>\n",
       "    <tr>\n",
       "      <th>1</th>\n",
       "      <td>New York</td>\n",
       "      <td>7.22</td>\n",
       "      <td>66</td>\n",
       "      <td>broken clouds</td>\n",
       "    </tr>\n",
       "    <tr>\n",
       "      <th>2</th>\n",
       "      <td>Tokyo</td>\n",
       "      <td>8.59</td>\n",
       "      <td>84</td>\n",
       "      <td>broken clouds</td>\n",
       "    </tr>\n",
       "    <tr>\n",
       "      <th>3</th>\n",
       "      <td>Sydney</td>\n",
       "      <td>19.11</td>\n",
       "      <td>82</td>\n",
       "      <td>clear sky</td>\n",
       "    </tr>\n",
       "    <tr>\n",
       "      <th>4</th>\n",
       "      <td>Paris</td>\n",
       "      <td>5.88</td>\n",
       "      <td>74</td>\n",
       "      <td>light rain</td>\n",
       "    </tr>\n",
       "  </tbody>\n",
       "</table>\n",
       "</div>"
      ],
      "text/plain": [
       "       City  Temperature (Celsius)  Humidity (%) Weather Description\n",
       "0    London                   5.99            91     overcast clouds\n",
       "1  New York                   7.22            66       broken clouds\n",
       "2     Tokyo                   8.59            84       broken clouds\n",
       "3    Sydney                  19.11            82           clear sky\n",
       "4     Paris                   5.88            74          light rain"
      ]
     },
     "execution_count": 30,
     "metadata": {},
     "output_type": "execute_result"
    }
   ],
   "source": [
    "df"
   ]
  },
  {
   "cell_type": "code",
   "execution_count": null,
   "id": "d46f5f4d",
   "metadata": {},
   "outputs": [],
   "source": []
  }
 ],
 "metadata": {
  "kernelspec": {
   "display_name": "Python 3 (ipykernel)",
   "language": "python",
   "name": "python3"
  },
  "language_info": {
   "codemirror_mode": {
    "name": "ipython",
    "version": 3
   },
   "file_extension": ".py",
   "mimetype": "text/x-python",
   "name": "python",
   "nbconvert_exporter": "python",
   "pygments_lexer": "ipython3",
   "version": "3.11.5"
  }
 },
 "nbformat": 4,
 "nbformat_minor": 5
}
